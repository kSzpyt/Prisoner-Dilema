{
 "cells": [
  {
   "cell_type": "code",
   "execution_count": 1,
   "metadata": {},
   "outputs": [],
   "source": [
    "from PrisonerIssueClass import PrisonerIssue"
   ]
  },
  {
   "cell_type": "code",
   "execution_count": 2,
   "metadata": {},
   "outputs": [],
   "source": [
    "issue = PrisonerIssue()"
   ]
  },
  {
   "cell_type": "code",
   "execution_count": 5,
   "metadata": {},
   "outputs": [
    {
     "name": "stdout",
     "output_type": "stream",
     "text": [
      "[76, 12, 76, 76, 76, 76, 76, 76, 7, 76, 76, 76, 76, 76, 76, 12, 12, 7, 3, 76, 12, 76, 76, 7, 76, 76, 12, 76, 76, 76, 76, 12, 76, 76, 76, 76, 76, 76, 7, 76, 76, 76, 76, 76, 76, 76, 76, 76, 76, 76, 76, 76, 76, 7, 76, 76, 76, 76, 76, 76, 76, 76, 76, 76, 12, 76, 76, 76, 7, 76, 12, 3, 76, 76, 76, 12, 12, 76, 76, 7, 76, 76, 76, 76, 12, 76, 76, 7, 76, 7, 76, 76, 7, 7, 76, 76, 7, 76, 76, 76]\n"
     ]
    }
   ],
   "source": [
    "print(issue.simulation())"
   ]
  },
  {
   "cell_type": "code",
   "execution_count": 5,
   "metadata": {},
   "outputs": [
    {
     "name": "stdout",
     "output_type": "stream",
     "text": [
      "01:: Box 03 - Prisonser 33\n",
      "02:: Box 33 - Prisonser 45\n",
      "03:: Box 45 - Prisonser 86\n",
      "04:: Box 86 - Prisonser 27\n",
      "05:: Box 27 - Prisonser 70\n",
      "06:: Box 70 - Prisonser 42\n",
      "07:: Box 42 - Prisonser 88\n",
      "08:: Box 88 - Prisonser 60\n",
      "09:: Box 60 - Prisonser 8\n",
      "10:: Box 08 - Prisonser 64\n",
      "11:: Box 64 - Prisonser 28\n",
      "12:: Box 28 - Prisonser 59\n",
      "13:: Box 59 - Prisonser 66\n",
      "14:: Box 66 - Prisonser 67\n",
      "15:: Box 67 - Prisonser 91\n",
      "16:: Box 91 - Prisonser 19\n",
      "17:: Box 19 - Prisonser 44\n",
      "18:: Box 44 - Prisonser 92\n",
      "19:: Box 92 - Prisonser 74\n",
      "20:: Box 74 - Prisonser 7\n",
      "21:: Box 07 - Prisonser 30\n",
      "22:: Box 30 - Prisonser 78\n",
      "23:: Box 78 - Prisonser 35\n",
      "24:: Box 35 - Prisonser 2\n",
      "25:: Box 02 - Prisonser 98\n",
      "26:: Box 98 - Prisonser 41\n",
      "27:: Box 41 - Prisonser 49\n",
      "28:: Box 49 - Prisonser 97\n",
      "29:: Box 97 - Prisonser 22\n",
      "30:: Box 22 - Prisonser 93\n",
      "31:: Box 93 - Prisonser 84\n",
      "32:: Box 84 - Prisonser 16\n",
      "33:: Box 16 - Prisonser 83\n",
      "34:: Box 83 - Prisonser 10\n",
      "35:: Box 10 - Prisonser 3\n"
     ]
    },
    {
     "data": {
      "text/plain": [
       "36"
      ]
     },
     "execution_count": 5,
     "metadata": {},
     "output_type": "execute_result"
    }
   ],
   "source": [
    "issue.perform_loop_search(3)"
   ]
  }
 ],
 "metadata": {
  "kernelspec": {
   "display_name": "Python 3.9.13 ('venv': venv)",
   "language": "python",
   "name": "python3"
  },
  "language_info": {
   "codemirror_mode": {
    "name": "ipython",
    "version": 3
   },
   "file_extension": ".py",
   "mimetype": "text/x-python",
   "name": "python",
   "nbconvert_exporter": "python",
   "pygments_lexer": "ipython3",
   "version": "3.9.13"
  },
  "orig_nbformat": 4,
  "vscode": {
   "interpreter": {
    "hash": "27268378f5b1a77a8b0863477d2c1e80c26c6b450f240c232ba077975400f51a"
   }
  }
 },
 "nbformat": 4,
 "nbformat_minor": 2
}
