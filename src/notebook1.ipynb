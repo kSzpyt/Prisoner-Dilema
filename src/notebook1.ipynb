{
 "cells": [
  {
   "cell_type": "code",
   "execution_count": 11,
   "metadata": {},
   "outputs": [],
   "source": [
    "import numpy as np\n",
    "import random\n",
    "import time"
   ]
  },
  {
   "cell_type": "code",
   "execution_count": 2,
   "metadata": {},
   "outputs": [],
   "source": [
    "prisoner_number_in_box = random.sample(range(1,101),100)\n",
    "box_number = [x for x in range(1,101)]"
   ]
  },
  {
   "cell_type": "code",
   "execution_count": 13,
   "metadata": {},
   "outputs": [
    {
     "name": "stdout",
     "output_type": "stream",
     "text": [
      "[56, 30, 25, 51, 6, 64, 49, 91, 21, 61, 9, 83, 50, 86, 44, 78, 85, 80, 69, 87, 15, 4, 17, 1, 19, 72, 97, 18, 12, 71, 74, 20, 67, 33, 82, 63, 47, 26, 58, 31, 73, 11, 59, 8, 46, 16, 94, 96, 98, 100, 29, 90, 37, 5, 3, 52, 95, 7, 24, 41, 79, 34, 28, 40, 76, 54, 77, 70, 55, 2, 89, 75, 27, 36, 53, 39, 99, 57, 23, 62, 81, 93, 13, 32, 84, 14, 48, 10, 35, 45, 68, 43, 60, 88, 38, 92, 65, 42, 22, 66]\n"
     ]
    }
   ],
   "source": [
    "print(prisoner_number_in_box)"
   ]
  },
  {
   "cell_type": "code",
   "execution_count": 5,
   "metadata": {},
   "outputs": [],
   "source": [
    "prisoner_number: int = 1"
   ]
  },
  {
   "cell_type": "code",
   "execution_count": 18,
   "metadata": {},
   "outputs": [],
   "source": [
    "box_number_to_check: int = prisoner_number - 1"
   ]
  },
  {
   "cell_type": "code",
   "execution_count": 19,
   "metadata": {},
   "outputs": [
    {
     "name": "stdout",
     "output_type": "stream",
     "text": [
      "1: 59\n",
      "2: 63\n",
      "3: 39\n",
      "4: 8\n",
      "5: 26\n",
      "6: 49\n",
      "7: 41\n",
      "8: 13\n",
      "9: 66\n",
      "10: 48\n",
      "11: 28\n",
      "12: 93\n",
      "13: 82\n",
      "14: 87\n",
      "15: 80\n",
      "16: 76\n",
      "17: 43\n",
      "18: 14\n",
      "19: 53\n",
      "20: 77\n",
      "21: 99\n",
      "22: 97\n",
      "23: 20\n",
      "24: 7\n",
      "25: 72\n",
      "26: 86\n",
      "27: 1\n"
     ]
    }
   ],
   "source": [
    "found_flag: bool = False\n",
    "i = 1\n",
    "while found_flag==False:\n",
    "    current_number = prisoner_number_in_box[box_number_to_check]\n",
    "    print(f\"{i}: {current_number}\")\n",
    "    if current_number == prisoner_number:\n",
    "        found_flag = True\n",
    "    else:\n",
    "        box_number_to_check = current_number\n",
    "    i += 1\n",
    "    time.sleep(0.2)\n",
    "    "
   ]
  }
 ],
 "metadata": {
  "kernelspec": {
   "display_name": "Python 3.9.13 ('venv': venv)",
   "language": "python",
   "name": "python3"
  },
  "language_info": {
   "codemirror_mode": {
    "name": "ipython",
    "version": 3
   },
   "file_extension": ".py",
   "mimetype": "text/x-python",
   "name": "python",
   "nbconvert_exporter": "python",
   "pygments_lexer": "ipython3",
   "version": "3.9.13"
  },
  "orig_nbformat": 4,
  "vscode": {
   "interpreter": {
    "hash": "0eca1658188dc06ee82bf46a688f8e54cda4102c903d96f96e0733cbd5b1db7f"
   }
  }
 },
 "nbformat": 4,
 "nbformat_minor": 2
}
